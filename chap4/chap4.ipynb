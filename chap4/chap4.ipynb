{
 "cells": [
  {
   "cell_type": "markdown",
   "id": "8d90f630",
   "metadata": {},
   "source": [
    "# 4.1\n",
    "## 4.1.1\n",
    "## 4.1.2"
   ]
  },
  {
   "cell_type": "code",
   "execution_count": 2,
   "id": "fee21612",
   "metadata": {},
   "outputs": [
    {
     "data": {
      "text/plain": [
       "(720, 1280, 3)"
      ]
     },
     "execution_count": 2,
     "metadata": {},
     "output_type": "execute_result"
    }
   ],
   "source": [
    "import imageio\n",
    "\n",
    "img_arr = imageio.imread(\"data/bobby.jpg\")\n",
    "img_arr.shape"
   ]
  },
  {
   "cell_type": "code",
   "execution_count": 3,
   "id": "80f740ef",
   "metadata": {
    "scrolled": true
   },
   "outputs": [
    {
     "data": {
      "text/plain": [
       "Array([[[ 77,  45,  22],\n",
       "        [ 77,  45,  22],\n",
       "        [ 78,  46,  21],\n",
       "        ...,\n",
       "        [118,  78,  52],\n",
       "        [117,  77,  51],\n",
       "        [116,  76,  51]],\n",
       "\n",
       "       [[ 75,  43,  20],\n",
       "        [ 76,  44,  21],\n",
       "        [ 77,  45,  20],\n",
       "        ...,\n",
       "        [118,  78,  52],\n",
       "        [117,  77,  51],\n",
       "        [116,  76,  50]],\n",
       "\n",
       "       [[ 74,  39,  17],\n",
       "        [ 75,  41,  16],\n",
       "        [ 77,  43,  18],\n",
       "        ...,\n",
       "        [119,  80,  51],\n",
       "        [117,  77,  51],\n",
       "        [116,  76,  50]],\n",
       "\n",
       "       ...,\n",
       "\n",
       "       [[215, 165,  78],\n",
       "        [216, 166,  79],\n",
       "        [217, 167,  80],\n",
       "        ...,\n",
       "        [172, 122,  51],\n",
       "        [174, 124,  53],\n",
       "        [174, 124,  53]],\n",
       "\n",
       "       [[215, 165,  78],\n",
       "        [216, 166,  79],\n",
       "        [217, 167,  80],\n",
       "        ...,\n",
       "        [173, 123,  54],\n",
       "        [174, 124,  55],\n",
       "        [174, 124,  55]],\n",
       "\n",
       "       [[215, 165,  78],\n",
       "        [216, 166,  79],\n",
       "        [217, 167,  80],\n",
       "        ...,\n",
       "        [159, 108,  42],\n",
       "        [158, 107,  41],\n",
       "        [158, 107,  41]]], dtype=uint8)"
      ]
     },
     "execution_count": 3,
     "metadata": {},
     "output_type": "execute_result"
    }
   ],
   "source": [
    "img_arr"
   ]
  },
  {
   "cell_type": "markdown",
   "id": "8e0edebb",
   "metadata": {},
   "source": [
    "## 4.1.3"
   ]
  },
  {
   "cell_type": "code",
   "execution_count": 5,
   "id": "3d3ffe5b",
   "metadata": {},
   "outputs": [],
   "source": [
    "import torch"
   ]
  },
  {
   "cell_type": "code",
   "execution_count": 6,
   "id": "f3cdfcc9",
   "metadata": {},
   "outputs": [],
   "source": [
    "img = torch.from_numpy(img_arr)\n",
    "out = img.permute(2, 0, 1)"
   ]
  },
  {
   "cell_type": "code",
   "execution_count": 7,
   "id": "f9dd45de",
   "metadata": {},
   "outputs": [],
   "source": [
    "batch_size = 3\n",
    "batch = torch.zeros(batch_size, 3, 256, 256, dtype=torch.uint8)"
   ]
  },
  {
   "cell_type": "code",
   "execution_count": 8,
   "id": "f62df8ec",
   "metadata": {},
   "outputs": [],
   "source": [
    "import os\n",
    "\n",
    "data_dir = \"data/image_cats/\"\n",
    "filenames = [name for name in os.listdir(data_dir) if os.path.splitext(name)[-1] == \"png\"]\n",
    "for i, filename in enumerate(filenames):\n",
    "    img_arr = imageio.imread(os.path.join(data_dir, filename))\n",
    "    img_t = torch.from_numpy(img_arr)\n",
    "    img_t = img_t.permute(2, 0, 1)\n",
    "    img_t = img_t[:3] # 余計な次元を削除する\n",
    "    batch[i] = img_t"
   ]
  },
  {
   "cell_type": "markdown",
   "id": "0b207db7",
   "metadata": {},
   "source": [
    "## 4.1.4"
   ]
  },
  {
   "cell_type": "code",
   "execution_count": 9,
   "id": "041b69d8",
   "metadata": {},
   "outputs": [],
   "source": [
    "batch = batch.float()\n",
    "batch /= 255.0"
   ]
  },
  {
   "cell_type": "code",
   "execution_count": 10,
   "id": "540893cf",
   "metadata": {},
   "outputs": [],
   "source": [
    "n_channels = batch.shape[1]\n",
    "for c in range(n_channels):\n",
    "    mean = torch.mean(batch[:, c])\n",
    "    std = torch.std(batch[:, c])\n",
    "    batch[:, c] = (batch[:, c] - mean) / std"
   ]
  },
  {
   "cell_type": "markdown",
   "id": "3098dcd1",
   "metadata": {},
   "source": [
    "# 4.2\n",
    "## 4.2.1"
   ]
  },
  {
   "cell_type": "code",
   "execution_count": 12,
   "id": "a7632d80",
   "metadata": {},
   "outputs": [
    {
     "name": "stdout",
     "output_type": "stream",
     "text": [
      "Reading DICOM (examining files): 1/99 files (1.0%63/99 files (63.6%99/99 files (100.0%)\n",
      "  Found 1 correct series.\n",
      "Reading DICOM (loading data): 29/99  (29.349/99  (49.584/99  (84.899/99  (100.0%)\n"
     ]
    },
    {
     "data": {
      "text/plain": [
       "(99, 512, 512)"
      ]
     },
     "execution_count": 12,
     "metadata": {},
     "output_type": "execute_result"
    }
   ],
   "source": [
    "import imageio\n",
    "\n",
    "dir_path = \"data/2-LUNG 3.0 B70f-04083\"\n",
    "vol_arr = imageio.volread(dir_path, \"DICOM\")\n",
    "vol_arr.shape"
   ]
  },
  {
   "cell_type": "code",
   "execution_count": 13,
   "id": "ac96a175",
   "metadata": {},
   "outputs": [
    {
     "data": {
      "text/plain": [
       "torch.Size([1, 99, 512, 512])"
      ]
     },
     "execution_count": 13,
     "metadata": {},
     "output_type": "execute_result"
    }
   ],
   "source": [
    "vol = torch.from_numpy(vol_arr).float()\n",
    "vol = torch.unsqueeze(vol, 0)\n",
    "\n",
    "vol.shape"
   ]
  },
  {
   "cell_type": "code",
   "execution_count": null,
   "id": "1dd9966d",
   "metadata": {},
   "outputs": [],
   "source": []
  }
 ],
 "metadata": {
  "kernelspec": {
   "display_name": "Python 3",
   "language": "python",
   "name": "python3"
  },
  "language_info": {
   "codemirror_mode": {
    "name": "ipython",
    "version": 3
   },
   "file_extension": ".py",
   "mimetype": "text/x-python",
   "name": "python",
   "nbconvert_exporter": "python",
   "pygments_lexer": "ipython3",
   "version": "3.6.8"
  }
 },
 "nbformat": 4,
 "nbformat_minor": 5
}
