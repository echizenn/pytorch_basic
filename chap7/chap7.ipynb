{
 "cells": [
  {
   "cell_type": "code",
   "execution_count": 52,
   "id": "fa8babec",
   "metadata": {},
   "outputs": [],
   "source": [
    "import matplotlib.pyplot as plt\n",
    "import torch\n",
    "import torch.optim as optim"
   ]
  },
  {
   "cell_type": "markdown",
   "id": "86953800",
   "metadata": {},
   "source": [
    "# 7.1\n",
    "## 7.1.1"
   ]
  },
  {
   "cell_type": "code",
   "execution_count": 2,
   "id": "cf5f3596",
   "metadata": {},
   "outputs": [
    {
     "name": "stdout",
     "output_type": "stream",
     "text": [
      "Files already downloaded and verified\n",
      "Files already downloaded and verified\n"
     ]
    }
   ],
   "source": [
    "from torchvision import datasets\n",
    "data_path = \"data/\"\n",
    "cifar10 = datasets.CIFAR10(data_path, train=True, download=True)\n",
    "cifar10_val = datasets.CIFAR10(data_path, train=False, download=True)"
   ]
  },
  {
   "cell_type": "code",
   "execution_count": 3,
   "id": "134063c2",
   "metadata": {},
   "outputs": [
    {
     "data": {
      "text/plain": [
       "(torchvision.datasets.cifar.CIFAR10,\n",
       " torchvision.datasets.vision.VisionDataset,\n",
       " torch.utils.data.dataset.Dataset,\n",
       " typing.Generic,\n",
       " object)"
      ]
     },
     "execution_count": 3,
     "metadata": {},
     "output_type": "execute_result"
    }
   ],
   "source": [
    "type(cifar10).__mro__"
   ]
  },
  {
   "cell_type": "markdown",
   "id": "79cb767a",
   "metadata": {},
   "source": [
    "## 7.1.2"
   ]
  },
  {
   "cell_type": "code",
   "execution_count": 4,
   "id": "b22adbaf",
   "metadata": {},
   "outputs": [],
   "source": [
    "class_names = ['airplane','automobile','bird','cat','deer',\n",
    "               'dog','frog','horse','ship','truck']"
   ]
  },
  {
   "cell_type": "code",
   "execution_count": 5,
   "id": "894034ed",
   "metadata": {},
   "outputs": [
    {
     "data": {
      "text/plain": [
       "50000"
      ]
     },
     "execution_count": 5,
     "metadata": {},
     "output_type": "execute_result"
    }
   ],
   "source": [
    "len(cifar10)"
   ]
  },
  {
   "cell_type": "code",
   "execution_count": 6,
   "id": "8a78a842",
   "metadata": {},
   "outputs": [
    {
     "data": {
      "text/plain": [
       "(<PIL.Image.Image image mode=RGB size=32x32 at 0x1137B5518>, 1, 'automobile')"
      ]
     },
     "execution_count": 6,
     "metadata": {},
     "output_type": "execute_result"
    }
   ],
   "source": [
    "img, label = cifar10[99]\n",
    "img, label, class_names[label]"
   ]
  },
  {
   "cell_type": "code",
   "execution_count": 7,
   "id": "53fa1d3e",
   "metadata": {},
   "outputs": [
    {
     "data": {
      "image/png": "[encoded data removed]",
      "text/plain": [
       "<Figure size 432x288 with 1 Axes>"
      ]
     },
     "metadata": {
      "needs_background": "light"
     },
     "output_type": "display_data"
    }
   ],
   "source": [
    "plt.imshow(img)\n",
    "plt.show()"
   ]
  },
  {
   "cell_type": "markdown",
   "id": "714aeda3",
   "metadata": {},
   "source": [
    "## 7.1.3"
   ]
  },
  {
   "cell_type": "code",
   "execution_count": 8,
   "id": "bd466181",
   "metadata": {},
   "outputs": [
    {
     "data": {
      "text/plain": [
       "['AutoAugment',\n",
       " 'AutoAugmentPolicy',\n",
       " 'CenterCrop',\n",
       " 'ColorJitter',\n",
       " 'Compose',\n",
       " 'ConvertImageDtype',\n",
       " 'FiveCrop',\n",
       " 'GaussianBlur',\n",
       " 'Grayscale',\n",
       " 'InterpolationMode',\n",
       " 'Lambda',\n",
       " 'LinearTransformation',\n",
       " 'Normalize',\n",
       " 'PILToTensor',\n",
       " 'Pad',\n",
       " 'RandAugment',\n",
       " 'RandomAdjustSharpness',\n",
       " 'RandomAffine',\n",
       " 'RandomApply',\n",
       " 'RandomAutocontrast',\n",
       " 'RandomChoice',\n",
       " 'RandomCrop',\n",
       " 'RandomEqualize',\n",
       " 'RandomErasing',\n",
       " 'RandomGrayscale',\n",
       " 'RandomHorizontalFlip',\n",
       " 'RandomInvert',\n",
       " 'RandomOrder',\n",
       " 'RandomPerspective',\n",
       " 'RandomPosterize',\n",
       " 'RandomResizedCrop',\n",
       " 'RandomRotation',\n",
       " 'RandomSizedCrop',\n",
       " 'RandomSolarize',\n",
       " 'RandomVerticalFlip',\n",
       " 'Resize',\n",
       " 'Scale',\n",
       " 'TenCrop',\n",
       " 'ToPILImage',\n",
       " 'ToTensor',\n",
       " 'TrivialAugmentWide',\n",
       " '__builtins__',\n",
       " '__cached__',\n",
       " '__doc__',\n",
       " '__file__',\n",
       " '__loader__',\n",
       " '__name__',\n",
       " '__package__',\n",
       " '__path__',\n",
       " '__spec__',\n",
       " 'autoaugment',\n",
       " 'functional',\n",
       " 'functional_pil',\n",
       " 'functional_tensor',\n",
       " 'transforms']"
      ]
     },
     "execution_count": 8,
     "metadata": {},
     "output_type": "execute_result"
    }
   ],
   "source": [
    "from torchvision import transforms\n",
    "dir(transforms)"
   ]
  },
  {
   "cell_type": "code",
   "execution_count": 9,
   "id": "a26547d0",
   "metadata": {},
   "outputs": [
    {
     "data": {
      "text/plain": [
       "torch.Size([3, 32, 32])"
      ]
     },
     "execution_count": 9,
     "metadata": {},
     "output_type": "execute_result"
    }
   ],
   "source": [
    "to_tensor = transforms.ToTensor()\n",
    "img_t = to_tensor(img)\n",
    "img_t.shape"
   ]
  },
  {
   "cell_type": "code",
   "execution_count": 10,
   "id": "ec66adba",
   "metadata": {},
   "outputs": [],
   "source": [
    "tensor_cifar10 = datasets.CIFAR10(data_path, train=True, download=False, transform=transforms.ToTensor())"
   ]
  },
  {
   "cell_type": "code",
   "execution_count": 11,
   "id": "8ee52cd8",
   "metadata": {},
   "outputs": [
    {
     "data": {
      "text/plain": [
       "torch.Tensor"
      ]
     },
     "execution_count": 11,
     "metadata": {},
     "output_type": "execute_result"
    }
   ],
   "source": [
    "img_t, _ = tensor_cifar10[99]\n",
    "type(img_t)"
   ]
  },
  {
   "cell_type": "code",
   "execution_count": 12,
   "id": "102cd610",
   "metadata": {},
   "outputs": [
    {
     "data": {
      "text/plain": [
       "(torch.Size([3, 32, 32]), torch.float32)"
      ]
     },
     "execution_count": 12,
     "metadata": {},
     "output_type": "execute_result"
    }
   ],
   "source": [
    "img_t.shape, img_t.dtype"
   ]
  },
  {
   "cell_type": "code",
   "execution_count": 13,
   "id": "3557ed88",
   "metadata": {},
   "outputs": [
    {
     "data": {
      "text/plain": [
       "(tensor(0.), tensor(1.))"
      ]
     },
     "execution_count": 13,
     "metadata": {},
     "output_type": "execute_result"
    }
   ],
   "source": [
    "img_t.min(), img_t.max()"
   ]
  },
  {
   "cell_type": "code",
   "execution_count": 14,
   "id": "b35e2adb",
   "metadata": {
    "scrolled": true
   },
   "outputs": [
    {
     "data": {
      "image/png": "[encoded data removed]",
      "text/plain": [
       "<Figure size 432x288 with 1 Axes>"
      ]
     },
     "metadata": {
      "needs_background": "light"
     },
     "output_type": "display_data"
    }
   ],
   "source": [
    "plt.imshow(img_t.permute(1, 2, 0))\n",
    "plt.show()"
   ]
  },
  {
   "cell_type": "markdown",
   "id": "9458abeb",
   "metadata": {},
   "source": [
    "## 7.1.4"
   ]
  },
  {
   "cell_type": "code",
   "execution_count": 15,
   "id": "2fcdd9dd",
   "metadata": {},
   "outputs": [
    {
     "data": {
      "text/plain": [
       "torch.Size([3, 32, 32, 50000])"
      ]
     },
     "execution_count": 15,
     "metadata": {},
     "output_type": "execute_result"
    }
   ],
   "source": [
    "imgs = torch.stack([img_t for img_t, _ in tensor_cifar10], dim=3)\n",
    "imgs.shape"
   ]
  },
  {
   "cell_type": "code",
   "execution_count": 16,
   "id": "7f376a5e",
   "metadata": {},
   "outputs": [
    {
     "data": {
      "text/plain": [
       "tensor([0.4914, 0.4822, 0.4465])"
      ]
     },
     "execution_count": 16,
     "metadata": {},
     "output_type": "execute_result"
    }
   ],
   "source": [
    "imgs.view(3, -1).mean(dim=1)"
   ]
  },
  {
   "cell_type": "code",
   "execution_count": 17,
   "id": "1312db65",
   "metadata": {},
   "outputs": [
    {
     "data": {
      "text/plain": [
       "tensor([0.2470, 0.2435, 0.2616])"
      ]
     },
     "execution_count": 17,
     "metadata": {},
     "output_type": "execute_result"
    }
   ],
   "source": [
    "imgs.view(3, -1).std(dim=1)"
   ]
  },
  {
   "cell_type": "code",
   "execution_count": 18,
   "id": "79fc2a62",
   "metadata": {},
   "outputs": [
    {
     "data": {
      "text/plain": [
       "Normalize(mean=(0.4914, 0.4822, 0.4465), std=(0.247, 0.2435, 0.2616))"
      ]
     },
     "execution_count": 18,
     "metadata": {},
     "output_type": "execute_result"
    }
   ],
   "source": [
    "transforms.Normalize((0.4914, 0.4822, 0.4465), (0.2470, 0.2435, 0.2616))"
   ]
  },
  {
   "cell_type": "code",
   "execution_count": 19,
   "id": "15b4c9df",
   "metadata": {},
   "outputs": [],
   "source": [
    "transformed_cifar10 = datasets.CIFAR10(\n",
    "    data_path, train=True, download=False,\n",
    "    transform=transforms.Compose([\n",
    "        transforms.ToTensor(),\n",
    "        transforms.Normalize((0.4914, 0.4822, 0.4465), (0.2470, 0.2435, 0.2616))\n",
    "]))"
   ]
  },
  {
   "cell_type": "code",
   "execution_count": 20,
   "id": "987d3164",
   "metadata": {},
   "outputs": [
    {
     "name": "stderr",
     "output_type": "stream",
     "text": [
      "Clipping input data to the valid range for imshow with RGB data ([0..1] for floats or [0..255] for integers).\n"
     ]
    },
    {
     "data": {
      "image/png": "[encoded data removed]",
      "text/plain": [
       "<Figure size 432x288 with 1 Axes>"
      ]
     },
     "metadata": {
      "needs_background": "light"
     },
     "output_type": "display_data"
    }
   ],
   "source": [
    "img_t, _ = transformed_cifar10[99]\n",
    "\n",
    "plt.imshow(img_t.permute(1, 2, 0))\n",
    "plt.show()"
   ]
  },
  {
   "cell_type": "markdown",
   "id": "6b239dd9",
   "metadata": {},
   "source": [
    "# 7.2\n",
    "## 7.2.1"
   ]
  },
  {
   "cell_type": "code",
   "execution_count": 36,
   "id": "e69aafdc",
   "metadata": {},
   "outputs": [],
   "source": [
    "transformed_cifar10_val = datasets.CIFAR10(\n",
    "    data_path, train=False, download=False,\n",
    "    transform=transforms.Compose([\n",
    "        transforms.ToTensor(),\n",
    "        transforms.Normalize((0.4914, 0.4822, 0.4465), (0.2470, 0.2435, 0.2616))\n",
    "]))"
   ]
  },
  {
   "cell_type": "code",
   "execution_count": 60,
   "id": "6eccff38",
   "metadata": {},
   "outputs": [],
   "source": [
    "label_map = {0: 0, 2: 1}\n",
    "class_names = [\"airplane\", \"bird\"]\n",
    "cifar2 = [(img, label_map[label]) for img, label in transformed_cifar10 if label in [0, 2]]\n",
    "cifar2_val = [(img, label_map[label]) for img, label in transformed_cifar10_val if label in [0, 2]]"
   ]
  },
  {
   "cell_type": "markdown",
   "id": "3f970fd6",
   "metadata": {},
   "source": [
    "## 7.2.2"
   ]
  },
  {
   "cell_type": "code",
   "execution_count": 38,
   "id": "0c98e48d",
   "metadata": {},
   "outputs": [],
   "source": [
    "import torch.nn as nn\n",
    "\n",
    "n_out = 2\n",
    "\n",
    "model = nn.Sequential(\n",
    "            nn.Linear(3072, 512,), # (入力される特徴量の数, 隠れ層のサイズ)\n",
    "            nn.Tanh(),\n",
    "            nn.Linear(512, n_out,)\n",
    ")"
   ]
  },
  {
   "cell_type": "markdown",
   "id": "7c13adba",
   "metadata": {},
   "source": [
    "## 7.2.3   \n",
    "softmax使えば確率に対応できるよっていう話  \n",
    "\n",
    "## 7.2.4"
   ]
  },
  {
   "cell_type": "code",
   "execution_count": 39,
   "id": "c0aa3cf1",
   "metadata": {},
   "outputs": [],
   "source": [
    "def softmax(x):\n",
    "    return torch.exp(x) / torch.exp(x).sum()"
   ]
  },
  {
   "cell_type": "code",
   "execution_count": 40,
   "id": "8706283e",
   "metadata": {},
   "outputs": [
    {
     "data": {
      "text/plain": [
       "tensor([0.0900, 0.2447, 0.6652])"
      ]
     },
     "execution_count": 40,
     "metadata": {},
     "output_type": "execute_result"
    }
   ],
   "source": [
    "x = torch.tensor([1.0, 2.0, 3.0])\n",
    "softmax(x)"
   ]
  },
  {
   "cell_type": "code",
   "execution_count": 41,
   "id": "c72169bb",
   "metadata": {},
   "outputs": [
    {
     "data": {
      "text/plain": [
       "tensor(1.)"
      ]
     },
     "execution_count": 41,
     "metadata": {},
     "output_type": "execute_result"
    }
   ],
   "source": [
    "softmax(x).sum()"
   ]
  },
  {
   "cell_type": "code",
   "execution_count": 42,
   "id": "384f7026",
   "metadata": {},
   "outputs": [
    {
     "data": {
      "text/plain": [
       "tensor([[0.0900, 0.2447, 0.6652],\n",
       "        [0.0900, 0.2447, 0.6652]])"
      ]
     },
     "execution_count": 42,
     "metadata": {},
     "output_type": "execute_result"
    }
   ],
   "source": [
    "softmax = nn.Softmax(dim=1)\n",
    "\n",
    "x = torch.tensor([[1.0, 2.0, 3.0],\n",
    "                   [1.0, 2.0, 3.0]])\n",
    "\n",
    "softmax(x)"
   ]
  },
  {
   "cell_type": "code",
   "execution_count": 43,
   "id": "e0ec960d",
   "metadata": {},
   "outputs": [],
   "source": [
    "model = nn.Sequential(\n",
    "    nn.Linear(3072, 512),\n",
    "    nn.Tanh(),\n",
    "    nn.Linear(512, 2),\n",
    "    nn.Softmax(dim=1)\n",
    ")"
   ]
  },
  {
   "cell_type": "code",
   "execution_count": 44,
   "id": "a6f35c39",
   "metadata": {},
   "outputs": [
    {
     "name": "stderr",
     "output_type": "stream",
     "text": [
      "Clipping input data to the valid range for imshow with RGB data ([0..1] for floats or [0..255] for integers).\n"
     ]
    },
    {
     "data": {
      "image/png": "[encoded data removed]",
      "text/plain": [
       "<Figure size 432x288 with 1 Axes>"
      ]
     },
     "metadata": {
      "needs_background": "light"
     },
     "output_type": "display_data"
    }
   ],
   "source": [
    "img, _ = cifar2[0]\n",
    "\n",
    "plt.imshow(img.permute(1, 2, 0))\n",
    "plt.show()"
   ]
  },
  {
   "cell_type": "code",
   "execution_count": 45,
   "id": "3d8db10b",
   "metadata": {},
   "outputs": [],
   "source": [
    "img_batch = img.view(-1).unsqueeze(0)"
   ]
  },
  {
   "cell_type": "code",
   "execution_count": 46,
   "id": "73bfb37e",
   "metadata": {},
   "outputs": [
    {
     "data": {
      "text/plain": [
       "tensor([[0.6139, 0.3861]], grad_fn=<SoftmaxBackward0>)"
      ]
     },
     "execution_count": 46,
     "metadata": {},
     "output_type": "execute_result"
    }
   ],
   "source": [
    "out = model(img_batch)\n",
    "out"
   ]
  },
  {
   "cell_type": "code",
   "execution_count": 47,
   "id": "6679b2db",
   "metadata": {},
   "outputs": [
    {
     "data": {
      "text/plain": [
       "tensor([0])"
      ]
     },
     "execution_count": 47,
     "metadata": {},
     "output_type": "execute_result"
    }
   ],
   "source": [
    "_, index = torch.max(out, dim=1)\n",
    "index"
   ]
  },
  {
   "cell_type": "markdown",
   "id": "7f370a59",
   "metadata": {},
   "source": [
    "## 7.2.5"
   ]
  },
  {
   "cell_type": "code",
   "execution_count": 48,
   "id": "a5209c5c",
   "metadata": {},
   "outputs": [],
   "source": [
    "model = nn.Sequential(\n",
    "    nn.Linear(3072, 512),\n",
    "    nn.Tanh(),\n",
    "    nn.Linear(512, 2),\n",
    "    nn.LogSoftmax(dim=1))"
   ]
  },
  {
   "cell_type": "code",
   "execution_count": 49,
   "id": "ed39a15d",
   "metadata": {},
   "outputs": [],
   "source": [
    "loss = nn.NLLLoss()"
   ]
  },
  {
   "cell_type": "code",
   "execution_count": 50,
   "id": "984b8d8c",
   "metadata": {},
   "outputs": [
    {
     "data": {
      "text/plain": [
       "tensor(0.7652, grad_fn=<NllLossBackward0>)"
      ]
     },
     "execution_count": 50,
     "metadata": {},
     "output_type": "execute_result"
    }
   ],
   "source": [
    "img, label = cifar2[0]\n",
    "\n",
    "out = model(img.view(-1).unsqueeze(0))\n",
    "\n",
    "loss(out, torch.tensor([label]))"
   ]
  },
  {
   "cell_type": "markdown",
   "id": "0e106459",
   "metadata": {},
   "source": [
    "## 7.2.6"
   ]
  },
  {
   "cell_type": "code",
   "execution_count": 53,
   "id": "0902fd45",
   "metadata": {
    "scrolled": true
   },
   "outputs": [
    {
     "name": "stdout",
     "output_type": "stream",
     "text": [
      "Epoch: 0, Loss: 4.028780\n",
      "Epoch: 1, Loss: 1.661085\n",
      "Epoch: 2, Loss: 4.851367\n",
      "Epoch: 3, Loss: 6.171830\n",
      "Epoch: 4, Loss: 6.664773\n",
      "Epoch: 5, Loss: 4.658957\n",
      "Epoch: 6, Loss: 1.739245\n",
      "Epoch: 7, Loss: 2.126773\n",
      "Epoch: 8, Loss: 9.188570\n",
      "Epoch: 9, Loss: 7.081150\n",
      "Epoch: 10, Loss: 10.612674\n",
      "Epoch: 11, Loss: 8.125198\n",
      "Epoch: 12, Loss: 13.426434\n",
      "Epoch: 13, Loss: 1.817014\n",
      "Epoch: 14, Loss: 10.722897\n",
      "Epoch: 15, Loss: 15.570053\n",
      "Epoch: 16, Loss: 9.654103\n",
      "Epoch: 17, Loss: 1.036546\n",
      "Epoch: 18, Loss: 1.456138\n",
      "Epoch: 19, Loss: 2.409344\n",
      "Epoch: 20, Loss: 10.178215\n",
      "Epoch: 21, Loss: 14.366916\n",
      "Epoch: 22, Loss: 12.742320\n",
      "Epoch: 23, Loss: 2.299199\n",
      "Epoch: 24, Loss: 12.906838\n",
      "Epoch: 25, Loss: 2.555940\n",
      "Epoch: 26, Loss: 2.436572\n",
      "Epoch: 27, Loss: 3.137813\n",
      "Epoch: 28, Loss: 10.828568\n",
      "Epoch: 29, Loss: 9.183104\n",
      "Epoch: 30, Loss: 8.922868\n",
      "Epoch: 31, Loss: 11.768345\n",
      "Epoch: 32, Loss: 2.518254\n",
      "Epoch: 33, Loss: 8.074298\n",
      "Epoch: 34, Loss: 5.115629\n",
      "Epoch: 35, Loss: 6.886944\n",
      "Epoch: 36, Loss: 14.376588\n",
      "Epoch: 37, Loss: 6.406636\n",
      "Epoch: 38, Loss: 6.242672\n",
      "Epoch: 39, Loss: 0.602905\n",
      "Epoch: 40, Loss: 1.498080\n",
      "Epoch: 41, Loss: 10.103286\n",
      "Epoch: 42, Loss: 15.414713\n",
      "Epoch: 43, Loss: 9.119067\n",
      "Epoch: 44, Loss: 8.770477\n",
      "Epoch: 45, Loss: 13.387628\n",
      "Epoch: 46, Loss: 1.469931\n",
      "Epoch: 47, Loss: 0.044724\n",
      "Epoch: 48, Loss: 9.196550\n",
      "Epoch: 49, Loss: 8.449697\n",
      "Epoch: 50, Loss: 5.563362\n",
      "Epoch: 51, Loss: 0.061192\n",
      "Epoch: 52, Loss: 0.401265\n",
      "Epoch: 53, Loss: 12.645389\n",
      "Epoch: 54, Loss: 2.764211\n",
      "Epoch: 55, Loss: 10.834952\n",
      "Epoch: 56, Loss: 10.627697\n",
      "Epoch: 57, Loss: 6.369077\n",
      "Epoch: 58, Loss: 9.448863\n",
      "Epoch: 59, Loss: 7.170307\n",
      "Epoch: 60, Loss: 11.375139\n",
      "Epoch: 61, Loss: 16.977989\n",
      "Epoch: 62, Loss: 13.482278\n",
      "Epoch: 63, Loss: 11.499590\n",
      "Epoch: 64, Loss: 11.616363\n",
      "Epoch: 65, Loss: 14.452526\n",
      "Epoch: 66, Loss: 16.514774\n",
      "Epoch: 67, Loss: 18.703806\n",
      "Epoch: 68, Loss: 14.270968\n",
      "Epoch: 69, Loss: 16.843025\n",
      "Epoch: 70, Loss: 7.875755\n",
      "Epoch: 71, Loss: 6.807954\n",
      "Epoch: 72, Loss: 0.520076\n",
      "Epoch: 73, Loss: 6.294443\n",
      "Epoch: 74, Loss: 11.506423\n",
      "Epoch: 75, Loss: 16.372005\n",
      "Epoch: 76, Loss: 9.422028\n",
      "Epoch: 77, Loss: 14.380567\n",
      "Epoch: 78, Loss: 11.753873\n",
      "Epoch: 79, Loss: 13.391959\n",
      "Epoch: 80, Loss: 4.320826\n",
      "Epoch: 81, Loss: 6.429883\n",
      "Epoch: 82, Loss: 19.094326\n",
      "Epoch: 83, Loss: 13.619880\n",
      "Epoch: 84, Loss: 15.480211\n",
      "Epoch: 85, Loss: 12.542529\n",
      "Epoch: 86, Loss: 18.852688\n",
      "Epoch: 87, Loss: 22.239658\n",
      "Epoch: 88, Loss: 11.661378\n",
      "Epoch: 89, Loss: 12.324641\n",
      "Epoch: 90, Loss: 4.943858\n",
      "Epoch: 91, Loss: 12.337571\n",
      "Epoch: 92, Loss: 0.158853\n",
      "Epoch: 93, Loss: 18.580141\n",
      "Epoch: 94, Loss: 10.496816\n",
      "Epoch: 95, Loss: 13.601714\n",
      "Epoch: 96, Loss: 2.569296\n",
      "Epoch: 97, Loss: 9.008631\n",
      "Epoch: 98, Loss: 15.795426\n",
      "Epoch: 99, Loss: 5.536029\n"
     ]
    }
   ],
   "source": [
    "import torch\n",
    "import torch.nn as nn\n",
    "model = nn.Sequential(\n",
    "            nn.Linear(3072, 512),\n",
    "            nn.Tanh(),\n",
    "            nn.Linear(512, 2),\n",
    "            nn.LogSoftmax(dim=1)\n",
    ")\n",
    "\n",
    "learning_rate = 1e-2\n",
    "\n",
    "optimizer = optim.SGD(model.parameters(), lr=learning_rate)\n",
    "\n",
    "loss_fn = nn.NLLLoss()\n",
    "\n",
    "n_epochs = 100\n",
    "\n",
    "for epoch in range(n_epochs):\n",
    "    for img, label in cifar2:\n",
    "        out = model(img.view(-1).unsqueeze(0))\n",
    "        loss = loss_fn(out, torch.tensor([label]))\n",
    "        \n",
    "        optimizer.zero_grad()\n",
    "        loss.backward()\n",
    "        optimizer.step()\n",
    "        \n",
    "    # 最後の画像の損失を出力します\n",
    "    print(\"Epoch: %d, Loss: %f\" % (epoch, float(loss)))"
   ]
  },
  {
   "cell_type": "code",
   "execution_count": 55,
   "id": "dbcce62f",
   "metadata": {},
   "outputs": [],
   "source": [
    "train_loader = torch.utils.data.DataLoader(transformed_cifar2, batch_size=64, shuffle=True)"
   ]
  },
  {
   "cell_type": "code",
   "execution_count": 58,
   "id": "9e700dc6",
   "metadata": {
    "scrolled": true
   },
   "outputs": [
    {
     "name": "stdout",
     "output_type": "stream",
     "text": [
      "Epoch: 0, Loss: 0.289325\n",
      "Epoch: 1, Loss: 0.616946\n",
      "Epoch: 2, Loss: 0.416260\n",
      "Epoch: 3, Loss: 0.570723\n",
      "Epoch: 4, Loss: 0.414729\n",
      "Epoch: 5, Loss: 0.441087\n",
      "Epoch: 6, Loss: 0.228453\n",
      "Epoch: 7, Loss: 0.444412\n",
      "Epoch: 8, Loss: 0.303057\n",
      "Epoch: 9, Loss: 0.642466\n",
      "Epoch: 10, Loss: 0.228218\n",
      "Epoch: 11, Loss: 0.296492\n",
      "Epoch: 12, Loss: 0.128617\n",
      "Epoch: 13, Loss: 0.422989\n",
      "Epoch: 14, Loss: 0.332177\n",
      "Epoch: 15, Loss: 0.387746\n",
      "Epoch: 16, Loss: 0.321687\n",
      "Epoch: 17, Loss: 0.363412\n",
      "Epoch: 18, Loss: 0.255143\n",
      "Epoch: 19, Loss: 0.613433\n",
      "Epoch: 20, Loss: 0.314580\n",
      "Epoch: 21, Loss: 0.061724\n",
      "Epoch: 22, Loss: 0.444152\n",
      "Epoch: 23, Loss: 0.148222\n",
      "Epoch: 24, Loss: 0.145435\n",
      "Epoch: 25, Loss: 0.176688\n",
      "Epoch: 26, Loss: 0.196042\n",
      "Epoch: 27, Loss: 0.326219\n",
      "Epoch: 28, Loss: 0.126138\n",
      "Epoch: 29, Loss: 0.125358\n",
      "Epoch: 30, Loss: 0.243618\n",
      "Epoch: 31, Loss: 0.167759\n",
      "Epoch: 32, Loss: 0.115958\n",
      "Epoch: 33, Loss: 0.301602\n",
      "Epoch: 34, Loss: 0.295682\n",
      "Epoch: 35, Loss: 0.195041\n",
      "Epoch: 36, Loss: 0.153141\n",
      "Epoch: 37, Loss: 0.184164\n",
      "Epoch: 38, Loss: 0.096804\n",
      "Epoch: 39, Loss: 0.135069\n",
      "Epoch: 40, Loss: 0.172944\n",
      "Epoch: 41, Loss: 0.050602\n",
      "Epoch: 42, Loss: 0.174211\n",
      "Epoch: 43, Loss: 0.235187\n",
      "Epoch: 44, Loss: 0.049893\n",
      "Epoch: 45, Loss: 0.081542\n",
      "Epoch: 46, Loss: 0.087161\n",
      "Epoch: 47, Loss: 0.181416\n",
      "Epoch: 48, Loss: 0.181563\n",
      "Epoch: 49, Loss: 0.084937\n",
      "Epoch: 50, Loss: 0.173190\n",
      "Epoch: 51, Loss: 0.108449\n",
      "Epoch: 52, Loss: 0.174248\n",
      "Epoch: 53, Loss: 0.043502\n",
      "Epoch: 54, Loss: 0.034886\n",
      "Epoch: 55, Loss: 0.020815\n",
      "Epoch: 56, Loss: 0.049341\n",
      "Epoch: 57, Loss: 0.042300\n",
      "Epoch: 58, Loss: 0.031838\n",
      "Epoch: 59, Loss: 0.159627\n",
      "Epoch: 60, Loss: 0.046909\n",
      "Epoch: 61, Loss: 0.036081\n",
      "Epoch: 62, Loss: 0.024118\n",
      "Epoch: 63, Loss: 0.094661\n",
      "Epoch: 64, Loss: 0.041577\n",
      "Epoch: 65, Loss: 0.036726\n",
      "Epoch: 66, Loss: 0.025571\n",
      "Epoch: 67, Loss: 0.019761\n",
      "Epoch: 68, Loss: 0.008794\n",
      "Epoch: 69, Loss: 0.031974\n",
      "Epoch: 70, Loss: 0.041381\n",
      "Epoch: 71, Loss: 0.028073\n",
      "Epoch: 72, Loss: 0.020095\n",
      "Epoch: 73, Loss: 0.044984\n",
      "Epoch: 74, Loss: 0.093353\n",
      "Epoch: 75, Loss: 0.037091\n",
      "Epoch: 76, Loss: 0.027192\n",
      "Epoch: 77, Loss: 0.028780\n",
      "Epoch: 78, Loss: 0.016776\n",
      "Epoch: 79, Loss: 0.024631\n",
      "Epoch: 80, Loss: 0.022392\n",
      "Epoch: 81, Loss: 0.014348\n",
      "Epoch: 82, Loss: 0.014724\n",
      "Epoch: 83, Loss: 0.039957\n",
      "Epoch: 84, Loss: 0.012127\n",
      "Epoch: 85, Loss: 0.015428\n",
      "Epoch: 86, Loss: 0.018990\n",
      "Epoch: 87, Loss: 0.096512\n",
      "Epoch: 88, Loss: 0.020932\n",
      "Epoch: 89, Loss: 0.030732\n",
      "Epoch: 90, Loss: 0.025093\n",
      "Epoch: 91, Loss: 0.026666\n",
      "Epoch: 92, Loss: 0.013098\n",
      "Epoch: 93, Loss: 0.010633\n",
      "Epoch: 94, Loss: 0.028833\n",
      "Epoch: 95, Loss: 0.008068\n",
      "Epoch: 96, Loss: 0.012363\n",
      "Epoch: 97, Loss: 0.029508\n",
      "Epoch: 98, Loss: 0.018416\n",
      "Epoch: 99, Loss: 0.021952\n"
     ]
    }
   ],
   "source": [
    "import torch\n",
    "import torch.nn as nn\n",
    "train_loader = torch.utils.data.DataLoader(cifar2, batch_size=64, shuffle=True)\n",
    "\n",
    "model = nn.Sequential(\n",
    "            nn.Linear(3072, 512),\n",
    "            nn.Tanh(),\n",
    "            nn.Linear(512, 2),\n",
    "            nn.LogSoftmax(dim=1))\n",
    "\n",
    "learning_rate = 1e-2\n",
    "\n",
    "optimizer = optim.SGD(model.parameters(), lr=learning_rate)\n",
    "\n",
    "loss_fn = nn.NLLLoss()\n",
    "\n",
    "n_epochs = 100\n",
    "\n",
    "for epoch in range(n_epochs):\n",
    "    for imgs, labels in train_loader:\n",
    "        batch_size = imgs.shape[0]\n",
    "        outputs = model(imgs.view(batch_size, -1))\n",
    "        loss = loss_fn(outputs, labels)\n",
    "        \n",
    "        optimizer.zero_grad()\n",
    "        loss.backward()\n",
    "        optimizer.step()\n",
    "        \n",
    "    print(\"Epoch: %d, Loss: %f\" % (epoch, float(loss)))\n",
    "    # ランダムに選ばれたbatchが出力される"
   ]
  },
  {
   "cell_type": "code",
   "execution_count": 61,
   "id": "13850464",
   "metadata": {},
   "outputs": [
    {
     "name": "stdout",
     "output_type": "stream",
     "text": [
      "Accuracy: %f 0.809\n"
     ]
    }
   ],
   "source": [
    "val_loader = torch.utils.data.DataLoader(cifar2_val, batch_size=64, shuffle=False)\n",
    "correct = 0\n",
    "total = 0\n",
    "\n",
    "with torch.no_grad():\n",
    "    for imgs, labels in val_loader:\n",
    "        batch_size = imgs.shape[0]\n",
    "        outputs = model(imgs.view(batch_size, -1))\n",
    "        _, predicted = torch.max(outputs, dim=1)\n",
    "        total += labels.shape[0]\n",
    "        correct += int((predicted == labels).sum())\n",
    "        \n",
    "print(\"Accuracy: %f\", correct / total)"
   ]
  },
  {
   "cell_type": "code",
   "execution_count": 62,
   "id": "cbc80542",
   "metadata": {},
   "outputs": [],
   "source": [
    "# model = nn.Sequential(\n",
    "#             nn.Linear(3072, 1024),\n",
    "#             nn.Tanh(),\n",
    "#             nn.Linear(1024, 512),\n",
    "#             nn.Tanh(),\n",
    "#             nn.Linear(512, 128),\n",
    "#             nn.Tanh(),\n",
    "#             nn.Linear(128, 2),\n",
    "#             nn.LogSoftmax(dim=1))"
   ]
  },
  {
   "cell_type": "code",
   "execution_count": 63,
   "id": "0f07a01b",
   "metadata": {},
   "outputs": [],
   "source": [
    "# model = nn.Sequential(\n",
    "#             nn.Linear(3072, 1024),\n",
    "#             nn.Tanh(),\n",
    "#             nn.Linear(1024, 512),\n",
    "#             nn.Tanh(),\n",
    "#             nn.Linear(512, 128),\n",
    "#             nn.Tanh(),\n",
    "#             nn.Linear(128, 2))\n",
    "\n",
    "# loss_fn = nn.CrossEntropyLoss()"
   ]
  },
  {
   "cell_type": "code",
   "execution_count": 64,
   "id": "60b063d5",
   "metadata": {},
   "outputs": [
    {
     "data": {
      "text/plain": [
       "(1574402, [1572864, 512, 1024, 2])"
      ]
     },
     "execution_count": 64,
     "metadata": {},
     "output_type": "execute_result"
    }
   ],
   "source": [
    "# 計算時間の関係上、レイヤを増やす前のものだけ\n",
    "numel_list = [p.numel() for p in model.parameters() if p.requires_grad]\n",
    "sum(numel_list), numel_list"
   ]
  },
  {
   "cell_type": "code",
   "execution_count": 65,
   "id": "89eabc94",
   "metadata": {},
   "outputs": [
    {
     "data": {
      "text/plain": [
       "(torch.Size([1024, 3072]), torch.Size([1024]))"
      ]
     },
     "execution_count": 65,
     "metadata": {},
     "output_type": "execute_result"
    }
   ],
   "source": [
    "linear = nn.Linear(3072, 1024)\n",
    "linear.weight.shape, linear.bias.shape"
   ]
  },
  {
   "cell_type": "markdown",
   "id": "5f962333",
   "metadata": {},
   "source": [
    "## 7.2.7"
   ]
  },
  {
   "cell_type": "markdown",
   "id": "bd0a6f72",
   "metadata": {},
   "source": [
    "畳み込みをしよう！"
   ]
  }
 ],
 "metadata": {
  "kernelspec": {
   "display_name": "Python 3",
   "language": "python",
   "name": "python3"
  },
  "language_info": {
   "codemirror_mode": {
    "name": "ipython",
    "version": 3
   },
   "file_extension": ".py",
   "mimetype": "text/x-python",
   "name": "python",
   "nbconvert_exporter": "python",
   "pygments_lexer": "ipython3",
   "version": "3.6.8"
  }
 },
 "nbformat": 4,
 "nbformat_minor": 5
}
