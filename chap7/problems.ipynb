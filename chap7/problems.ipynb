{
 "cells": [
  {
   "cell_type": "code",
   "execution_count": 6,
   "id": "c82f9379",
   "metadata": {},
   "outputs": [],
   "source": [
    "import matplotlib.pyplot as plt\n",
    "import torch\n",
    "import torch.optim as optim\n",
    "import torch.nn as nn\n",
    "from torchvision import transforms"
   ]
  },
  {
   "cell_type": "code",
   "execution_count": 4,
   "id": "375d9b19",
   "metadata": {},
   "outputs": [],
   "source": [
    "from torchvision import datasets\n",
    "data_path = \"data/\"\n",
    "transformed_cifar10 = datasets.CIFAR10(\n",
    "    data_path, train=True, download=False,\n",
    "    transform=transforms.Compose([\n",
    "        transforms.RandomCrop(24),\n",
    "        transforms.ToTensor(),\n",
    "        transforms.Normalize((0.4914, 0.4822, 0.4465), (0.2470, 0.2435, 0.2616))\n",
    "]))\n",
    "\n",
    "transformed_cifar10_val = datasets.CIFAR10(\n",
    "    data_path, train=False, download=False,\n",
    "    transform=transforms.Compose([\n",
    "        transforms.RandomCrop(24),\n",
    "        transforms.ToTensor(),\n",
    "        transforms.Normalize((0.4914, 0.4822, 0.4465), (0.2470, 0.2435, 0.2616))\n",
    "]))"
   ]
  },
  {
   "cell_type": "markdown",
   "id": "ec3d0058",
   "metadata": {},
   "source": [
    "# 1  \n",
    "## (a)  "
   ]
  },
  {
   "cell_type": "code",
   "execution_count": 5,
   "id": "3a701edd",
   "metadata": {},
   "outputs": [],
   "source": [
    "label_map = {0: 0, 2: 1}\n",
    "class_names = [\"airplane\", \"bird\"]\n",
    "cifar2 = [(img, label_map[label]) for img, label in transformed_cifar10 if label in [0, 2]]\n",
    "cifar2_val = [(img, label_map[label]) for img, label in transformed_cifar10_val if label in [0, 2]]"
   ]
  },
  {
   "cell_type": "code",
   "execution_count": 8,
   "id": "b982d23f",
   "metadata": {},
   "outputs": [
    {
     "name": "stderr",
     "output_type": "stream",
     "text": [
      "Clipping input data to the valid range for imshow with RGB data ([0..1] for floats or [0..255] for integers).\n"
     ]
    },
    {
     "data": {
      "image/png": "[encoded data removed]",
      "text/plain": [
       "<Figure size 432x288 with 1 Axes>"
      ]
     },
     "metadata": {
      "needs_background": "light"
     },
     "output_type": "display_data"
    }
   ],
   "source": [
    "img, _ = cifar2[0]\n",
    "\n",
    "plt.imshow(img.permute(1, 2, 0))\n",
    "plt.show()"
   ]
  },
  {
   "cell_type": "markdown",
   "id": "af90fbc1",
   "metadata": {},
   "source": [
    "RandomCropを用いて、3/4の大きさにランダムでクロップした  \n",
    "(正規化も相まって)なんの絵か全然認識できない  \n",
    "  \n",
    "## (b)"
   ]
  },
  {
   "cell_type": "code",
   "execution_count": 10,
   "id": "873fa1fc",
   "metadata": {},
   "outputs": [],
   "source": [
    "img_2 = transforms.RandomCrop(16)(img)"
   ]
  },
  {
   "cell_type": "code",
   "execution_count": 12,
   "id": "1a1268bd",
   "metadata": {},
   "outputs": [
    {
     "name": "stderr",
     "output_type": "stream",
     "text": [
      "Clipping input data to the valid range for imshow with RGB data ([0..1] for floats or [0..255] for integers).\n"
     ]
    },
    {
     "data": {
      "image/png": "[encoded data removed]",
      "text/plain": [
       "<Figure size 432x288 with 1 Axes>"
      ]
     },
     "metadata": {
      "needs_background": "light"
     },
     "output_type": "display_data"
    }
   ],
   "source": [
    "plt.imshow(img_2.permute(1, 2, 0))\n",
    "plt.show()"
   ]
  },
  {
   "cell_type": "markdown",
   "id": "f1fb1423",
   "metadata": {},
   "source": [
    "もうなんなんだか全くわからない  \n",
    "\n",
    "## (c)"
   ]
  },
  {
   "cell_type": "code",
   "execution_count": 13,
   "id": "1f244ca6",
   "metadata": {
    "scrolled": true
   },
   "outputs": [
    {
     "name": "stdout",
     "output_type": "stream",
     "text": [
      "Epoch: 0, Loss: 2.845694\n",
      "Epoch: 1, Loss: 3.766783\n",
      "Epoch: 2, Loss: 5.660944\n",
      "Epoch: 3, Loss: 5.756959\n",
      "Epoch: 4, Loss: 6.827988\n",
      "Epoch: 5, Loss: 4.633684\n",
      "Epoch: 6, Loss: 6.292463\n",
      "Epoch: 7, Loss: 4.628064\n",
      "Epoch: 8, Loss: 6.343484\n",
      "Epoch: 9, Loss: 6.914026\n",
      "Epoch: 10, Loss: 9.116515\n",
      "Epoch: 11, Loss: 8.037664\n",
      "Epoch: 12, Loss: 8.951804\n",
      "Epoch: 13, Loss: 7.726115\n",
      "Epoch: 14, Loss: 6.551840\n",
      "Epoch: 15, Loss: 8.683052\n",
      "Epoch: 16, Loss: 5.509545\n",
      "Epoch: 17, Loss: 9.274029\n",
      "Epoch: 18, Loss: 8.166529\n",
      "Epoch: 19, Loss: 3.594916\n",
      "Epoch: 20, Loss: 7.786989\n",
      "Epoch: 21, Loss: 7.319813\n",
      "Epoch: 22, Loss: 11.711759\n",
      "Epoch: 23, Loss: 7.224668\n",
      "Epoch: 24, Loss: 10.953800\n",
      "Epoch: 25, Loss: 12.746353\n",
      "Epoch: 26, Loss: 9.509359\n",
      "Epoch: 27, Loss: 8.548038\n",
      "Epoch: 28, Loss: 12.481115\n",
      "Epoch: 29, Loss: 10.107695\n",
      "Epoch: 30, Loss: 8.418998\n",
      "Epoch: 31, Loss: 12.639508\n",
      "Epoch: 32, Loss: 17.507740\n",
      "Epoch: 33, Loss: 15.116771\n",
      "Epoch: 34, Loss: 10.067011\n",
      "Epoch: 35, Loss: 15.963444\n",
      "Epoch: 36, Loss: 11.099911\n",
      "Epoch: 37, Loss: 6.468123\n",
      "Epoch: 38, Loss: 12.790780\n",
      "Epoch: 39, Loss: 9.201601\n",
      "Epoch: 40, Loss: 10.939179\n",
      "Epoch: 41, Loss: 9.059785\n",
      "Epoch: 42, Loss: 12.513787\n",
      "Epoch: 43, Loss: 10.039175\n",
      "Epoch: 44, Loss: 13.293354\n",
      "Epoch: 45, Loss: 10.672440\n",
      "Epoch: 46, Loss: 8.127460\n",
      "Epoch: 47, Loss: 4.419689\n",
      "Epoch: 48, Loss: 4.200396\n",
      "Epoch: 49, Loss: 6.769464\n",
      "Epoch: 50, Loss: 5.199500\n",
      "Epoch: 51, Loss: 12.587353\n",
      "Epoch: 52, Loss: 8.479427\n",
      "Epoch: 53, Loss: 13.817409\n",
      "Epoch: 54, Loss: 11.127278\n",
      "Epoch: 55, Loss: 12.358483\n",
      "Epoch: 56, Loss: 15.454925\n",
      "Epoch: 57, Loss: 17.938072\n",
      "Epoch: 58, Loss: 12.314606\n",
      "Epoch: 59, Loss: 11.656253\n",
      "Epoch: 60, Loss: 11.244011\n",
      "Epoch: 61, Loss: 9.654191\n",
      "Epoch: 62, Loss: 15.514008\n",
      "Epoch: 63, Loss: 7.328261\n",
      "Epoch: 64, Loss: 11.609288\n",
      "Epoch: 65, Loss: 5.662709\n",
      "Epoch: 66, Loss: 14.050090\n",
      "Epoch: 67, Loss: 14.602054\n",
      "Epoch: 68, Loss: 14.130607\n",
      "Epoch: 69, Loss: 8.990235\n",
      "Epoch: 70, Loss: 7.116712\n",
      "Epoch: 71, Loss: 6.192335\n",
      "Epoch: 72, Loss: 6.595551\n",
      "Epoch: 73, Loss: 8.114489\n",
      "Epoch: 74, Loss: 15.317541\n",
      "Epoch: 75, Loss: 9.042616\n",
      "Epoch: 76, Loss: 9.960542\n",
      "Epoch: 77, Loss: 14.119735\n",
      "Epoch: 78, Loss: 14.994207\n",
      "Epoch: 79, Loss: 14.097735\n",
      "Epoch: 80, Loss: 9.463876\n",
      "Epoch: 81, Loss: 3.199056\n",
      "Epoch: 82, Loss: 5.903843\n",
      "Epoch: 83, Loss: 5.203984\n",
      "Epoch: 84, Loss: 10.334845\n",
      "Epoch: 85, Loss: 12.140402\n",
      "Epoch: 86, Loss: 3.008238\n",
      "Epoch: 87, Loss: 5.332068\n",
      "Epoch: 88, Loss: 6.262304\n",
      "Epoch: 89, Loss: 5.862052\n",
      "Epoch: 90, Loss: 7.234166\n",
      "Epoch: 91, Loss: 3.960936\n",
      "Epoch: 92, Loss: 2.391102\n",
      "Epoch: 93, Loss: 2.735201\n",
      "Epoch: 94, Loss: 2.610352\n",
      "Epoch: 95, Loss: 3.539841\n",
      "Epoch: 96, Loss: 6.156361\n",
      "Epoch: 97, Loss: 7.966403\n",
      "Epoch: 98, Loss: 3.641707\n",
      "Epoch: 99, Loss: 0.881028\n"
     ]
    }
   ],
   "source": [
    "model = nn.Sequential(\n",
    "            nn.Linear(1728, 256),\n",
    "            nn.Tanh(),\n",
    "            nn.Linear(256, 2),\n",
    "            nn.LogSoftmax(dim=1)\n",
    ")\n",
    "\n",
    "learning_rate = 1e-2\n",
    "\n",
    "optimizer = optim.SGD(model.parameters(), lr=learning_rate)\n",
    "\n",
    "loss_fn = nn.NLLLoss()\n",
    "\n",
    "n_epochs = 100\n",
    "\n",
    "for epoch in range(n_epochs):\n",
    "    for img, label in cifar2:\n",
    "        out = model(img.view(-1).unsqueeze(0))\n",
    "        loss = loss_fn(out, torch.tensor([label]))\n",
    "        \n",
    "        optimizer.zero_grad()\n",
    "        loss.backward()\n",
    "        optimizer.step()\n",
    "        \n",
    "    # 最後の画像の損失を出力します\n",
    "    print(\"Epoch: %d, Loss: %f\" % (epoch, float(loss)))"
   ]
  },
  {
   "cell_type": "code",
   "execution_count": 14,
   "id": "a28eec33",
   "metadata": {},
   "outputs": [
    {
     "name": "stdout",
     "output_type": "stream",
     "text": [
      "Accuracy: %f 0.732\n"
     ]
    }
   ],
   "source": [
    "val_loader = torch.utils.data.DataLoader(cifar2_val, batch_size=64, shuffle=False)\n",
    "correct = 0\n",
    "total = 0\n",
    "\n",
    "with torch.no_grad():\n",
    "    for imgs, labels in val_loader:\n",
    "        batch_size = imgs.shape[0]\n",
    "        outputs = model(imgs.view(batch_size, -1))\n",
    "        _, predicted = torch.max(outputs, dim=1)\n",
    "        total += labels.shape[0]\n",
    "        correct += int((predicted == labels).sum())\n",
    "        \n",
    "print(\"Accuracy: %f\", correct / total)"
   ]
  },
  {
   "cell_type": "markdown",
   "id": "601dbf3c",
   "metadata": {},
   "source": [
    "大きく下がった"
   ]
  },
  {
   "cell_type": "markdown",
   "id": "e451d8dd",
   "metadata": {},
   "source": [
    "# 2\n",
    "## (a)"
   ]
  },
  {
   "cell_type": "code",
   "execution_count": 15,
   "id": "37288548",
   "metadata": {},
   "outputs": [],
   "source": [
    "from torchvision import datasets\n",
    "data_path = \"data/\"\n",
    "transformed_cifar10 = datasets.CIFAR10(\n",
    "    data_path, train=True, download=False,\n",
    "    transform=transforms.Compose([\n",
    "        transforms.ToTensor(),\n",
    "        transforms.Normalize((0.4914, 0.4822, 0.4465), (0.2470, 0.2435, 0.2616))\n",
    "]))\n",
    "\n",
    "transformed_cifar10_val = datasets.CIFAR10(\n",
    "    data_path, train=False, download=False,\n",
    "    transform=transforms.Compose([\n",
    "        transforms.ToTensor(),\n",
    "        transforms.Normalize((0.4914, 0.4822, 0.4465), (0.2470, 0.2435, 0.2616))\n",
    "]))"
   ]
  },
  {
   "cell_type": "code",
   "execution_count": 16,
   "id": "4af8c3ca",
   "metadata": {},
   "outputs": [],
   "source": [
    "label_map = {0: 0, 2: 1}\n",
    "class_names = [\"airplane\", \"bird\"]\n",
    "cifar2 = [(img, label_map[label]) for img, label in transformed_cifar10 if label in [0, 2]]\n",
    "cifar2_val = [(img, label_map[label]) for img, label in transformed_cifar10_val if label in [0, 2]]"
   ]
  },
  {
   "cell_type": "code",
   "execution_count": 18,
   "id": "66cb9636",
   "metadata": {},
   "outputs": [
    {
     "name": "stdout",
     "output_type": "stream",
     "text": [
      "Epoch: 0, Loss: 0.250001\n",
      "Epoch: 1, Loss: 0.250000\n",
      "Epoch: 2, Loss: 0.250000\n",
      "Epoch: 3, Loss: 0.250001\n",
      "Epoch: 4, Loss: 0.250001\n",
      "Epoch: 5, Loss: 0.250001\n",
      "Epoch: 6, Loss: 0.250000\n",
      "Epoch: 7, Loss: 0.250000\n",
      "Epoch: 8, Loss: 0.250000\n",
      "Epoch: 9, Loss: 0.250000\n",
      "Epoch: 10, Loss: 0.250000\n",
      "Epoch: 11, Loss: 0.250000\n",
      "Epoch: 12, Loss: 0.250000\n",
      "Epoch: 13, Loss: 0.250000\n",
      "Epoch: 14, Loss: 0.250000\n",
      "Epoch: 15, Loss: 0.250000\n",
      "Epoch: 16, Loss: 0.250000\n",
      "Epoch: 17, Loss: 0.250000\n",
      "Epoch: 18, Loss: 0.250000\n",
      "Epoch: 19, Loss: 0.250000\n",
      "Epoch: 20, Loss: 0.250000\n",
      "Epoch: 21, Loss: 0.250000\n",
      "Epoch: 22, Loss: 0.250000\n",
      "Epoch: 23, Loss: 0.250000\n",
      "Epoch: 24, Loss: 0.250000\n",
      "Epoch: 25, Loss: 0.250000\n",
      "Epoch: 26, Loss: 0.250000\n",
      "Epoch: 27, Loss: 0.250000\n",
      "Epoch: 28, Loss: 0.250000\n",
      "Epoch: 29, Loss: 0.250000\n",
      "Epoch: 30, Loss: 0.250000\n",
      "Epoch: 31, Loss: 0.250000\n",
      "Epoch: 32, Loss: 0.250000\n",
      "Epoch: 33, Loss: 0.250000\n",
      "Epoch: 34, Loss: 0.250000\n",
      "Epoch: 35, Loss: 0.250000\n",
      "Epoch: 36, Loss: 0.250000\n",
      "Epoch: 37, Loss: 0.250000\n",
      "Epoch: 38, Loss: 0.250000\n",
      "Epoch: 39, Loss: 0.250000\n",
      "Epoch: 40, Loss: 0.250000\n",
      "Epoch: 41, Loss: 0.250000\n",
      "Epoch: 42, Loss: 0.250000\n",
      "Epoch: 43, Loss: 0.250000\n",
      "Epoch: 44, Loss: 0.250000\n",
      "Epoch: 45, Loss: 0.250000\n",
      "Epoch: 46, Loss: 0.250000\n",
      "Epoch: 47, Loss: 0.250000\n",
      "Epoch: 48, Loss: 0.250000\n",
      "Epoch: 49, Loss: 0.250000\n",
      "Epoch: 50, Loss: 0.250000\n",
      "Epoch: 51, Loss: 0.250000\n",
      "Epoch: 52, Loss: 0.250000\n",
      "Epoch: 53, Loss: 0.250000\n",
      "Epoch: 54, Loss: 0.250000\n",
      "Epoch: 55, Loss: 0.250000\n",
      "Epoch: 56, Loss: 0.250000\n",
      "Epoch: 57, Loss: 0.250000\n",
      "Epoch: 58, Loss: 0.250000\n",
      "Epoch: 59, Loss: 0.250000\n",
      "Epoch: 60, Loss: 0.250000\n",
      "Epoch: 61, Loss: 0.250000\n",
      "Epoch: 62, Loss: 0.250000\n",
      "Epoch: 63, Loss: 0.250000\n",
      "Epoch: 64, Loss: 0.250000\n",
      "Epoch: 65, Loss: 0.250000\n",
      "Epoch: 66, Loss: 0.250000\n",
      "Epoch: 67, Loss: 0.250000\n",
      "Epoch: 68, Loss: 0.250000\n",
      "Epoch: 69, Loss: 0.250000\n",
      "Epoch: 70, Loss: 0.250000\n",
      "Epoch: 71, Loss: 0.250000\n",
      "Epoch: 72, Loss: 0.250000\n",
      "Epoch: 73, Loss: 0.250000\n",
      "Epoch: 74, Loss: 0.250000\n",
      "Epoch: 75, Loss: 0.250000\n",
      "Epoch: 76, Loss: 0.250000\n",
      "Epoch: 77, Loss: 0.250000\n",
      "Epoch: 78, Loss: 0.250000\n",
      "Epoch: 79, Loss: 0.250000\n",
      "Epoch: 80, Loss: 0.250000\n",
      "Epoch: 81, Loss: 0.250000\n",
      "Epoch: 82, Loss: 0.250000\n",
      "Epoch: 83, Loss: 0.250000\n",
      "Epoch: 84, Loss: 0.250000\n",
      "Epoch: 85, Loss: 0.250000\n",
      "Epoch: 86, Loss: 0.250000\n",
      "Epoch: 87, Loss: 0.250000\n",
      "Epoch: 88, Loss: 0.250000\n",
      "Epoch: 89, Loss: 0.250000\n",
      "Epoch: 90, Loss: 0.250000\n",
      "Epoch: 91, Loss: 0.250000\n",
      "Epoch: 92, Loss: 0.250000\n",
      "Epoch: 93, Loss: 0.250000\n",
      "Epoch: 94, Loss: 0.250000\n",
      "Epoch: 95, Loss: 0.250000\n",
      "Epoch: 96, Loss: 0.250000\n",
      "Epoch: 97, Loss: 0.250000\n",
      "Epoch: 98, Loss: 0.250000\n",
      "Epoch: 99, Loss: 0.250000\n"
     ]
    }
   ],
   "source": [
    "model = nn.Sequential(\n",
    "            nn.Linear(3072, 512),\n",
    "            nn.Tanh(),\n",
    "            nn.Linear(512, 2),\n",
    "            nn.Softmax(dim=1)\n",
    ")\n",
    "\n",
    "learning_rate = 1e-2\n",
    "\n",
    "optimizer = optim.SGD(model.parameters(), lr=learning_rate)\n",
    "\n",
    "loss_fn = nn.MSELoss()\n",
    "\n",
    "n_epochs = 100\n",
    "\n",
    "for epoch in range(n_epochs):\n",
    "    for img, label in cifar2:\n",
    "        out = model(img.view(-1).unsqueeze(0))\n",
    "        loss = loss_fn(out, torch.tensor([label]).float())\n",
    "        \n",
    "        optimizer.zero_grad()\n",
    "        loss.backward()\n",
    "        optimizer.step()\n",
    "        \n",
    "    # 最後の画像の損失を出力します\n",
    "    print(\"Epoch: %d, Loss: %f\" % (epoch, float(loss)))"
   ]
  },
  {
   "cell_type": "code",
   "execution_count": 19,
   "id": "bc6073ff",
   "metadata": {},
   "outputs": [
    {
     "name": "stdout",
     "output_type": "stream",
     "text": [
      "Accuracy: %f 0.518\n"
     ]
    }
   ],
   "source": [
    "val_loader = torch.utils.data.DataLoader(cifar2_val, batch_size=64, shuffle=False)\n",
    "correct = 0\n",
    "total = 0\n",
    "\n",
    "with torch.no_grad():\n",
    "    for imgs, labels in val_loader:\n",
    "        batch_size = imgs.shape[0]\n",
    "        outputs = model(imgs.view(batch_size, -1))\n",
    "        _, predicted = torch.max(outputs, dim=1)\n",
    "        total += labels.shape[0]\n",
    "        correct += int((predicted == labels).sum())\n",
    "        \n",
    "print(\"Accuracy: %f\", correct / total)"
   ]
  },
  {
   "cell_type": "markdown",
   "id": "1e383ec5",
   "metadata": {},
   "source": [
    "# 3\n",
    "## (a)"
   ]
  },
  {
   "cell_type": "markdown",
   "id": "eac0e114",
   "metadata": {},
   "source": [
    "元々ネットワークの容量が少ないモデルなので、検証しない"
   ]
  }
 ],
 "metadata": {
  "kernelspec": {
   "display_name": "Python 3",
   "language": "python",
   "name": "python3"
  },
  "language_info": {
   "codemirror_mode": {
    "name": "ipython",
    "version": 3
   },
   "file_extension": ".py",
   "mimetype": "text/x-python",
   "name": "python",
   "nbconvert_exporter": "python",
   "pygments_lexer": "ipython3",
   "version": "3.6.8"
  }
 },
 "nbformat": 4,
 "nbformat_minor": 5
}
